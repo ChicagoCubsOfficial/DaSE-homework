{
 "cells": [
  {
   "cell_type": "code",
   "execution_count": 2,
   "id": "15317c16-6642-4f56-af3c-21342a3839a6",
   "metadata": {},
   "outputs": [
    {
     "name": "stdin",
     "output_type": "stream",
     "text": [
      "输入十进制小数 5.2556\n"
     ]
    },
    {
     "name": "stdout",
     "output_type": "stream",
     "text": [
      "十进制数 5.2556 转换为二进制数为 101.01000001\n"
     ]
    }
   ],
   "source": [
    "def decimal_to_binary(decimal_number, precision=8):\n",
    "    binary_result = \"\"\n",
    "    \n",
    "    # 处理小数部分\n",
    "    integer_part = int(decimal_number)\n",
    "    fractional_part = decimal_number - integer_part\n",
    "    \n",
    "    # 转换整数部分为二进制\n",
    "    binary_result += bin(integer_part)[2:] + \".\"\n",
    "    \n",
    "    # 转换小数部分为二进制\n",
    "    for _ in range(precision):\n",
    "        fractional_part *= 2\n",
    "        binary_digit = int(fractional_part)\n",
    "        binary_result += str(binary_digit)\n",
    "        fractional_part -= binary_digit\n",
    "    \n",
    "    return binary_result\n",
    "\n",
    "# 输入十进制小数\n",
    "decimal_number = float(input('输入十进制小数'))\n",
    "\n",
    "# 调用函数进行转换，默认精度为8位\n",
    "binary_result = decimal_to_binary(decimal_number)\n",
    "print(f\"十进制数 {decimal_number} 转换为二进制数为 {binary_result}\")"
   ]
  },
  {
   "cell_type": "code",
   "execution_count": null,
   "id": "8ff02c3e-aa00-4ebc-bae2-bbc2f529edc2",
   "metadata": {},
   "outputs": [],
   "source": []
  }
 ],
 "metadata": {
  "kernelspec": {
   "display_name": "Python 3 (ipykernel)",
   "language": "python",
   "name": "python3"
  },
  "language_info": {
   "codemirror_mode": {
    "name": "ipython",
    "version": 3
   },
   "file_extension": ".py",
   "mimetype": "text/x-python",
   "name": "python",
   "nbconvert_exporter": "python",
   "pygments_lexer": "ipython3",
   "version": "3.11.4"
  }
 },
 "nbformat": 4,
 "nbformat_minor": 5
}
