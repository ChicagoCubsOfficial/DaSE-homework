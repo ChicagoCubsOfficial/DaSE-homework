{
 "cells": [
  {
   "cell_type": "code",
   "execution_count": 6,
   "id": "f50fe7f2-c392-45e0-a976-dbe84b39f8e9",
   "metadata": {},
   "outputs": [
    {
     "name": "stdout",
     "output_type": "stream",
     "text": [
      "8\n",
      "[9, 7, 7, 19, 11, 8, 19, 6]\n",
      "[ 9339792. 12008304. 12008304.  4424112.  7641648. 10507266.  4424112.\n",
      " 14009688.]\n"
     ]
    }
   ],
   "source": [
    "import random\n",
    "import numpy as np\n",
    "n = random.randint(1,10)\n",
    "arr = [random.randint(1,20) for i in range (n)]\n",
    "m = len(arr)\n",
    "print(n)\n",
    "print(arr)\n",
    "b = np.zeros(n)\n",
    "j = 0\n",
    "c = 1\n",
    "\n",
    "for i in range(n):\n",
    "    for k in range(n):\n",
    "        if k != i:\n",
    "            c *= arr[k]\n",
    "    b[j] = c\n",
    "    j += 1\n",
    "    k = 0\n",
    "    c = 1\n",
    "print(b)"
   ]
  },
  {
   "cell_type": "code",
   "execution_count": null,
   "id": "e4c1cd23-f8cf-4a97-a061-f669302bc605",
   "metadata": {},
   "outputs": [],
   "source": []
  },
  {
   "cell_type": "code",
   "execution_count": null,
   "id": "c4a9d8dd-4e31-4b37-87ff-80816a4aece9",
   "metadata": {},
   "outputs": [],
   "source": []
  }
 ],
 "metadata": {
  "kernelspec": {
   "display_name": "Python 3 (ipykernel)",
   "language": "python",
   "name": "python3"
  },
  "language_info": {
   "codemirror_mode": {
    "name": "ipython",
    "version": 3
   },
   "file_extension": ".py",
   "mimetype": "text/x-python",
   "name": "python",
   "nbconvert_exporter": "python",
   "pygments_lexer": "ipython3",
   "version": "3.11.4"
  }
 },
 "nbformat": 4,
 "nbformat_minor": 5
}
