{
 "cells": [
  {
   "cell_type": "code",
   "execution_count": 1,
   "id": "f19f00fb-3673-44e5-bcfb-fed8309959be",
   "metadata": {
    "tags": []
   },
   "outputs": [
    {
     "name": "stdin",
     "output_type": "stream",
     "text": [
      "请输入第一个正整数： 6\n",
      "请输入第二个正整数： 3\n"
     ]
    },
    {
     "name": "stdout",
     "output_type": "stream",
     "text": [
      "最大公约数是： 3\n"
     ]
    }
   ],
   "source": [
    "def gcd(a, b):\n",
    "    if b == 0:\n",
    "        return a\n",
    "    else:\n",
    "        return gcd(b, a % b)\n",
    "\n",
    "num1 = int(input(\"请输入第一个正整数：\"))\n",
    "num2 = int(input(\"请输入第二个正整数：\"))\n",
    "result = gcd(num1, num2)\n",
    "print(\"最大公约数是：\", result)"
   ]
  },
  {
   "cell_type": "code",
   "execution_count": null,
   "id": "c7f6ddea-5466-4621-b0d6-f580c30eaa02",
   "metadata": {},
   "outputs": [],
   "source": []
  }
 ],
 "metadata": {
  "kernelspec": {
   "display_name": "Python 3 (ipykernel)",
   "language": "python",
   "name": "python3"
  },
  "language_info": {
   "codemirror_mode": {
    "name": "ipython",
    "version": 3
   },
   "file_extension": ".py",
   "mimetype": "text/x-python",
   "name": "python",
   "nbconvert_exporter": "python",
   "pygments_lexer": "ipython3",
   "version": "3.11.4"
  }
 },
 "nbformat": 4,
 "nbformat_minor": 5
}
