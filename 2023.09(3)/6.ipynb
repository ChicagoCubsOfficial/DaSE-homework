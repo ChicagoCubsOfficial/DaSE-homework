{
 "cells": [
  {
   "cell_type": "code",
   "execution_count": 3,
   "id": "750dd0ca-42eb-4d35-bc5c-5943b9146498",
   "metadata": {
    "tags": []
   },
   "outputs": [
    {
     "name": "stdin",
     "output_type": "stream",
     "text": [
      "请输入分数: 87\n"
     ]
    },
    {
     "name": "stdout",
     "output_type": "stream",
     "text": [
      "良好\n"
     ]
    }
   ],
   "source": [
    "s = int(input(\"请输入分数:\"))\n",
    "if( s < 60 ):\n",
    "    print(\"不合格\")\n",
    "elif( s >= 60 and s <= 74 ):\n",
    "    print(\"合格\")\n",
    "elif( s >= 75 and s <= 89 ):\n",
    "    print(\"良好\")\n",
    "elif( s >= 90):\n",
    "    print(\"优秀\")"
   ]
  },
  {
   "cell_type": "code",
   "execution_count": null,
   "id": "f28c718a-3bdc-4de9-a40f-72991dc42833",
   "metadata": {},
   "outputs": [],
   "source": []
  }
 ],
 "metadata": {
  "kernelspec": {
   "display_name": "Python 3 (ipykernel)",
   "language": "python",
   "name": "python3"
  },
  "language_info": {
   "codemirror_mode": {
    "name": "ipython",
    "version": 3
   },
   "file_extension": ".py",
   "mimetype": "text/x-python",
   "name": "python",
   "nbconvert_exporter": "python",
   "pygments_lexer": "ipython3",
   "version": "3.11.4"
  }
 },
 "nbformat": 4,
 "nbformat_minor": 5
}
