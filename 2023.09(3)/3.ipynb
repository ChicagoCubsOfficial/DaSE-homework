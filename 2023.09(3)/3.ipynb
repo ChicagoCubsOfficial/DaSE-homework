{
 "cells": [
  {
   "cell_type": "code",
   "execution_count": 4,
   "id": "fcdd2e98-4ed4-4b6b-be45-ee9a138d471a",
   "metadata": {},
   "outputs": [
    {
     "name": "stdin",
     "output_type": "stream",
     "text": [
      "请输入身份证号:  370832200408017637\n"
     ]
    },
    {
     "name": "stdout",
     "output_type": "stream",
     "text": [
      "合法\n"
     ]
    }
   ],
   "source": [
    "import re\n",
    "pattern = r'^\\d{6}(19|20)\\d{2}(0[1-9]|1[0-2])(0[1-9]|[12][0-9]|3[01])\\d{3}[0-9X]$'\n",
    "\n",
    "id_number = input(str(\"请输入身份证号: \"))\n",
    "if re.match(pattern, id_number):\n",
    "        print(\"合法\")\n",
    "else:\n",
    "        print(\"不合法\")"
   ]
  },
  {
   "cell_type": "code",
   "execution_count": null,
   "id": "95c624f2-4c86-437c-af55-1f1b6225477a",
   "metadata": {},
   "outputs": [],
   "source": []
  }
 ],
 "metadata": {
  "kernelspec": {
   "display_name": "Python 3 (ipykernel)",
   "language": "python",
   "name": "python3"
  },
  "language_info": {
   "codemirror_mode": {
    "name": "ipython",
    "version": 3
   },
   "file_extension": ".py",
   "mimetype": "text/x-python",
   "name": "python",
   "nbconvert_exporter": "python",
   "pygments_lexer": "ipython3",
   "version": "3.11.4"
  }
 },
 "nbformat": 4,
 "nbformat_minor": 5
}
