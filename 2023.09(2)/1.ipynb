{
 "cells": [
  {
   "cell_type": "markdown",
   "id": "c7bcadb9-7772-4425-b19a-2bfa40e047f3",
   "metadata": {},
   "source": [
    "1 1000 * 1001 = 1001000\n",
    "2 假设固定两数的平均值 m，设 d 为两数与平均值的差，则 a = m + d, b = m - d\n",
    "  ab = (m + d)(m - d) = m^2 - d^2\n",
    "  可见 d 越小（即，两数离平均值越近，也就是两数差值越小），乘积越大"
   ]
  },
  {
   "cell_type": "code",
   "execution_count": 2,
   "id": "349c8e27-a59e-4e90-9ab2-0ddb2b95275f",
   "metadata": {
    "tags": []
   },
   "outputs": [
    {
     "name": "stdin",
     "output_type": "stream",
     "text": [
      "请输入一个正整数:  2001\n"
     ]
    },
    {
     "name": "stdout",
     "output_type": "stream",
     "text": [
      "取数列为: 1000 1001\n",
      "最大乘积为: 1001000\n"
     ]
    }
   ],
   "source": [
    "n = int(input(\"请输入一个正整数: \"))\n",
    "a = 0\n",
    "b = 0\n",
    "p = 0\n",
    "if n%2 == 0:\n",
    "    a = int(n/2)\n",
    "    b = int(n/2)\n",
    "    p = a * b\n",
    "    print(\"取数列为:\",a,b)\n",
    "    print(\"最大乘积为:\",p)\n",
    "else:\n",
    "    a = int(n/2)\n",
    "    b = int(n/2) + 1\n",
    "    p = a * b\n",
    "    print(\"取数列为:\",a,b)\n",
    "    print(\"最大乘积为:\",p)"
   ]
  },
  {
   "cell_type": "code",
   "execution_count": null,
   "id": "e72ea848-8019-48d7-8d96-3f54e71d01fa",
   "metadata": {},
   "outputs": [],
   "source": []
  }
 ],
 "metadata": {
  "kernelspec": {
   "display_name": "Python 3 (ipykernel)",
   "language": "python",
   "name": "python3"
  },
  "language_info": {
   "codemirror_mode": {
    "name": "ipython",
    "version": 3
   },
   "file_extension": ".py",
   "mimetype": "text/x-python",
   "name": "python",
   "nbconvert_exporter": "python",
   "pygments_lexer": "ipython3",
   "version": "3.11.4"
  }
 },
 "nbformat": 4,
 "nbformat_minor": 5
}
