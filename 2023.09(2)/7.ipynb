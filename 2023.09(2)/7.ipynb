{
 "cells": [
  {
   "cell_type": "code",
   "execution_count": 3,
   "id": "5e6467f6-a867-48a2-8d18-9cdf2eeab2ad",
   "metadata": {},
   "outputs": [
    {
     "name": "stdin",
     "output_type": "stream",
     "text": [
      "请输入一个数:  10\n"
     ]
    },
    {
     "name": "stdout",
     "output_type": "stream",
     "text": [
      "1 4.0\n",
      "4.0 2.875\n",
      "2.875 2.3199432892249527\n",
      "2.3199432892249527 2.165961555177793\n",
      "2.165961555177793 2.1544959251533746\n",
      "2.1544959251533746 2.154434691772293\n",
      "2.154434691772293 2.154434690031884\n",
      "2.154434690031884 2.154434690031884\n",
      "2.154434690031884\n"
     ]
    }
   ],
   "source": [
    "import math\n",
    "a = float(input(\"请输入一个数: \"))\n",
    "def f(x):\n",
    "    return x**3 - a\n",
    "def F1(x):\n",
    "    return 3*x**2\n",
    "ep = 0.00000000001\n",
    "k = 1\n",
    "t = 1\n",
    "\n",
    "while True:\n",
    "    t = k\n",
    "    k = t - f(t) / F1(t)\n",
    "    print(t,k)\n",
    "    if math.fabs(k - t) < ep:\n",
    "        break\n",
    "print(k)"
   ]
  },
  {
   "cell_type": "code",
   "execution_count": null,
   "id": "a3f11296-151e-4cbc-a2ff-b39d1feaba17",
   "metadata": {},
   "outputs": [],
   "source": []
  }
 ],
 "metadata": {
  "kernelspec": {
   "display_name": "Python 3 (ipykernel)",
   "language": "python",
   "name": "python3"
  },
  "language_info": {
   "codemirror_mode": {
    "name": "ipython",
    "version": 3
   },
   "file_extension": ".py",
   "mimetype": "text/x-python",
   "name": "python",
   "nbconvert_exporter": "python",
   "pygments_lexer": "ipython3",
   "version": "3.11.4"
  }
 },
 "nbformat": 4,
 "nbformat_minor": 5
}
