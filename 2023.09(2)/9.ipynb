{
 "cells": [
  {
   "cell_type": "code",
   "execution_count": 5,
   "id": "3c428f0c-035c-4d2c-b5a9-83357c660ae2",
   "metadata": {
    "tags": []
   },
   "outputs": [
    {
     "name": "stdout",
     "output_type": "stream",
     "text": [
      "11.810925973259561\n"
     ]
    }
   ],
   "source": [
    "import numpy as np\n",
    "\n",
    "def f(x):\n",
    "    t = x * x + 4 * x * np.sin(x)\n",
    "    return t\n",
    "\n",
    "\n",
    "def Monte_Carlo(a, b):\n",
    "    # (a,b)是积分区间\n",
    "    x = np.random.uniform(a, b,1000000)\n",
    "    y = f(x)\n",
    "    sum = 0\n",
    "    for i in y:\n",
    "        sum += i\n",
    "\n",
    "    return sum / 1000000\n",
    "\n",
    "\n",
    "print(Monte_Carlo(2, 3))"
   ]
  },
  {
   "cell_type": "code",
   "execution_count": null,
   "id": "b86260a1-5ff9-4014-9b4d-99047b3987a0",
   "metadata": {},
   "outputs": [],
   "source": []
  }
 ],
 "metadata": {
  "kernelspec": {
   "display_name": "Python 3 (ipykernel)",
   "language": "python",
   "name": "python3"
  },
  "language_info": {
   "codemirror_mode": {
    "name": "ipython",
    "version": 3
   },
   "file_extension": ".py",
   "mimetype": "text/x-python",
   "name": "python",
   "nbconvert_exporter": "python",
   "pygments_lexer": "ipython3",
   "version": "3.11.4"
  }
 },
 "nbformat": 4,
 "nbformat_minor": 5
}
