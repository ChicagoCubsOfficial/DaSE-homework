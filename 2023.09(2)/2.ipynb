{
 "cells": [
  {
   "cell_type": "code",
   "execution_count": 1,
   "id": "149b1b7b-1ee9-4db9-9483-1637274c617e",
   "metadata": {
    "tags": []
   },
   "outputs": [
    {
     "data": {
      "text/plain": [
       "1024.0"
      ]
     },
     "execution_count": 1,
     "metadata": {},
     "output_type": "execute_result"
    }
   ],
   "source": [
    "import math\n",
    "math.pow(2,10)"
   ]
  },
  {
   "cell_type": "code",
   "execution_count": 3,
   "id": "6198ed8d-42bf-4bfe-a05d-0cf03348b60c",
   "metadata": {
    "tags": []
   },
   "outputs": [
    {
     "data": {
      "text/plain": [
       "1048576.0"
      ]
     },
     "execution_count": 3,
     "metadata": {},
     "output_type": "execute_result"
    }
   ],
   "source": [
    "import math\n",
    "math.pow(2,20)"
   ]
  },
  {
   "cell_type": "code",
   "execution_count": 4,
   "id": "9f5c9ea7-9dd7-4ddb-9ed5-53e733856011",
   "metadata": {
    "tags": []
   },
   "outputs": [
    {
     "data": {
      "text/plain": [
       "1073741824.0"
      ]
     },
     "execution_count": 4,
     "metadata": {},
     "output_type": "execute_result"
    }
   ],
   "source": [
    "import math\n",
    "math.pow(2,30)"
   ]
  },
  {
   "cell_type": "code",
   "execution_count": 1,
   "id": "ae2c93df-1491-43ca-a59b-918d1287b1d3",
   "metadata": {},
   "outputs": [
    {
     "data": {
      "text/plain": [
       "1099511627776.0"
      ]
     },
     "execution_count": 1,
     "metadata": {},
     "output_type": "execute_result"
    }
   ],
   "source": [
    "import math\n",
    "math.pow(2,40)"
   ]
  },
  {
   "cell_type": "code",
   "execution_count": 2,
   "id": "75f9d3f0-fb18-49d8-bc04-b2cd6378aa8f",
   "metadata": {
    "tags": []
   },
   "outputs": [
    {
     "data": {
      "text/plain": [
       "1125899906842624.0"
      ]
     },
     "execution_count": 2,
     "metadata": {},
     "output_type": "execute_result"
    }
   ],
   "source": [
    "import math\n",
    "math.pow(2,50)"
   ]
  },
  {
   "cell_type": "code",
   "execution_count": null,
   "id": "671b890e-326e-44b4-9ba5-453959c5481e",
   "metadata": {},
   "outputs": [],
   "source": [
    "#增长速度很快，每次增长10次方，值大概会增长1000倍左右（*1000）"
   ]
  }
 ],
 "metadata": {
  "kernelspec": {
   "display_name": "Python 3 (ipykernel)",
   "language": "python",
   "name": "python3"
  },
  "language_info": {
   "codemirror_mode": {
    "name": "ipython",
    "version": 3
   },
   "file_extension": ".py",
   "mimetype": "text/x-python",
   "name": "python",
   "nbconvert_exporter": "python",
   "pygments_lexer": "ipython3",
   "version": "3.11.4"
  }
 },
 "nbformat": 4,
 "nbformat_minor": 5
}
