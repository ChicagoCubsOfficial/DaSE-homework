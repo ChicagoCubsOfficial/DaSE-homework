{
 "cells": [
  {
   "cell_type": "code",
   "execution_count": 1,
   "id": "3957dab5-51ea-4ecf-94c4-28ee3e0af726",
   "metadata": {
    "tags": []
   },
   "outputs": [
    {
     "name": "stdout",
     "output_type": "stream",
     "text": [
      "1.4142\n"
     ]
    }
   ],
   "source": [
    "def new(m):\n",
    "    x0 = m/2 #初始点，也可以是别的值\n",
    "    x1 = x0/2 + m/(x0*2)\n",
    "    while abs(x1-x0)>1e-5:\n",
    "        x0 = x1\n",
    "        x1 = x0/2 + m/(x0*2)\n",
    "    return x1\n",
    "# 输出精确到小数点后四位\n",
    "print( '%.4f'%new(2) )"
   ]
  },
  {
   "cell_type": "code",
   "execution_count": 2,
   "id": "be2c7c35-c1ce-4b57-8c8f-baee225fc96c",
   "metadata": {},
   "outputs": [
    {
     "name": "stdout",
     "output_type": "stream",
     "text": [
      "44.7214\n"
     ]
    }
   ],
   "source": [
    "def new(m):\n",
    "    x0 = m/2 \n",
    "    x1 = x0/2 + m/(x0*2)\n",
    "    while abs(x1-x0)>1e-5:\n",
    "        x0 = x1\n",
    "        x1 = x0/2 + m/(x0*2)\n",
    "    return x1\n",
    "print( '%.4f'%new(2000) )"
   ]
  },
  {
   "cell_type": "code",
   "execution_count": null,
   "id": "dd710f61-a6ae-4d41-b18a-bbfee45f5772",
   "metadata": {},
   "outputs": [],
   "source": []
  }
 ],
 "metadata": {
  "kernelspec": {
   "display_name": "Python 3 (ipykernel)",
   "language": "python",
   "name": "python3"
  },
  "language_info": {
   "codemirror_mode": {
    "name": "ipython",
    "version": 3
   },
   "file_extension": ".py",
   "mimetype": "text/x-python",
   "name": "python",
   "nbconvert_exporter": "python",
   "pygments_lexer": "ipython3",
   "version": "3.11.4"
  }
 },
 "nbformat": 4,
 "nbformat_minor": 5
}
