{
 "cells": [
  {
   "cell_type": "code",
   "execution_count": 10,
   "id": "a25e843a-f9f4-4ded-8234-c512c3491b99",
   "metadata": {},
   "outputs": [
    {
     "name": "stdout",
     "output_type": "stream",
     "text": [
      "1.414213562374689870\n"
     ]
    }
   ],
   "source": [
    "def new(c):\n",
    "    x0 = c/2 \n",
    "    x1 = x0/2 + c/(x0*2)\n",
    "    while abs(x1-x0)>1e-5:\n",
    "        x0 = x1\n",
    "        x1 = x0/2 + c/(x0*2)\n",
    "    return x1\n",
    "print( '%.18f'%new(2) )"
   ]
  },
  {
   "cell_type": "code",
   "execution_count": 7,
   "id": "d26405ec-b19e-4f93-9feb-4f894edabffa",
   "metadata": {
    "tags": []
   },
   "outputs": [
    {
     "name": "stdout",
     "output_type": "stream",
     "text": [
      "1.414213562373094923\n"
     ]
    }
   ],
   "source": [
    "def new(c):\n",
    "    x0 = c/4 \n",
    "    x1 = x0/2 + c/(x0*2)\n",
    "    while abs(x1-x0)>1e-5:\n",
    "        x0 = x1\n",
    "        x1 = x0/2 + c/(x0*2)\n",
    "    return x1\n",
    "print( '%.18f'%new(2) )"
   ]
  },
  {
   "cell_type": "code",
   "execution_count": 8,
   "id": "7a172774-48b8-4767-86f5-c9f178cb92ad",
   "metadata": {
    "tags": []
   },
   "outputs": [
    {
     "name": "stdout",
     "output_type": "stream",
     "text": [
      "1.414213562374689870\n"
     ]
    }
   ],
   "source": [
    "def new(c):\n",
    "    x0 = c \n",
    "    x1 = x0/2 + c/(x0*2)\n",
    "    while abs(x1-x0)>1e-5:\n",
    "        x0 = x1\n",
    "        x1 = x0/2 + c/(x0*2)\n",
    "    return x1\n",
    "print( '%.18f'%new(2) )"
   ]
  },
  {
   "cell_type": "markdown",
   "id": "aeb9903a-cb55-43dc-8b5f-db904490444c",
   "metadata": {},
   "source": [
    "改成g = c无影响，改成g = c/4有影响，但影响较小，不太影响测量精度"
   ]
  }
 ],
 "metadata": {
  "kernelspec": {
   "display_name": "Python 3 (ipykernel)",
   "language": "python",
   "name": "python3"
  },
  "language_info": {
   "codemirror_mode": {
    "name": "ipython",
    "version": 3
   },
   "file_extension": ".py",
   "mimetype": "text/x-python",
   "name": "python",
   "nbconvert_exporter": "python",
   "pygments_lexer": "ipython3",
   "version": "3.11.4"
  }
 },
 "nbformat": 4,
 "nbformat_minor": 5
}
