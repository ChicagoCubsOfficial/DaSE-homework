{
 "cells": [
  {
   "cell_type": "code",
   "execution_count": 6,
   "id": "ea3b89ca-019c-4a0d-baa6-7bc84774a93b",
   "metadata": {
    "tags": []
   },
   "outputs": [
    {
     "name": "stdin",
     "output_type": "stream",
     "text": [
      "请输入 acccd\n"
     ]
    },
    {
     "name": "stdout",
     "output_type": "stream",
     "text": [
      "字符串中包含有由两个及以上连续出现的相同字符组成的字符串\n"
     ]
    }
   ],
   "source": [
    "def string_count(string):\n",
    "    c=1\n",
    "    for i in range (1,len(string)):\n",
    "        if string[i] == string[i-1]:\n",
    "            c += 1\n",
    "    if c>=2:\n",
    "        d=1\n",
    "    else:\n",
    "        d=2\n",
    "string = input(\"请输入\")\n",
    "if (d==1):\n",
    "    print(\"字符串中包含有由两个及以上连续出现的相同字符组成的字符串\")\n",
    "else:\n",
    "    print(\"字符串中不包含有由两个及以上连续出现的相同字符组成的字符串\")"
   ]
  },
  {
   "cell_type": "code",
   "execution_count": null,
   "id": "27dc55d0-5fea-4aae-b703-0fc720f0498f",
   "metadata": {},
   "outputs": [],
   "source": []
  }
 ],
 "metadata": {
  "kernelspec": {
   "display_name": "Python 3 (ipykernel)",
   "language": "python",
   "name": "python3"
  },
  "language_info": {
   "codemirror_mode": {
    "name": "ipython",
    "version": 3
   },
   "file_extension": ".py",
   "mimetype": "text/x-python",
   "name": "python",
   "nbconvert_exporter": "python",
   "pygments_lexer": "ipython3",
   "version": "3.11.4"
  }
 },
 "nbformat": 4,
 "nbformat_minor": 5
}
