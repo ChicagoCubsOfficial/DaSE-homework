{
 "cells": [
  {
   "cell_type": "code",
   "execution_count": 1,
   "id": "7a28940e-14d4-4b73-8b42-105db1c8e132",
   "metadata": {
    "tags": []
   },
   "outputs": [
    {
     "name": "stdout",
     "output_type": "stream",
     "text": [
      "★数据科学与工程导论★\n"
     ]
    }
   ],
   "source": [
    "print(chr(0x2605)+\"数据科学与工程导论\"+chr(0x2605))\n"
   ]
  },
  {
   "cell_type": "code",
   "execution_count": null,
   "id": "793699e5-13c6-4092-9e26-50ec8b273294",
   "metadata": {},
   "outputs": [],
   "source": []
  }
 ],
 "metadata": {
  "kernelspec": {
   "display_name": "Python 3 (ipykernel)",
   "language": "python",
   "name": "python3"
  },
  "language_info": {
   "codemirror_mode": {
    "name": "ipython",
    "version": 3
   },
   "file_extension": ".py",
   "mimetype": "text/x-python",
   "name": "python",
   "nbconvert_exporter": "python",
   "pygments_lexer": "ipython3",
   "version": "3.11.4"
  }
 },
 "nbformat": 4,
 "nbformat_minor": 5
}
