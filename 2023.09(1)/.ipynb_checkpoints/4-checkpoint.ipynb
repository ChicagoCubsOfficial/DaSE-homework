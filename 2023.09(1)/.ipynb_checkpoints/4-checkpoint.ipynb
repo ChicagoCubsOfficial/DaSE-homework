{
 "cells": [
  {
   "cell_type": "code",
   "execution_count": 4,
   "id": "e0174618-8011-4cef-9844-dbd61fa825d7",
   "metadata": {},
   "outputs": [
    {
     "name": "stdin",
     "output_type": "stream",
     "text": [
      "请输入w的值 23\n",
      "请输入x的值 325\n",
      "请输入y的值 41\n",
      "请输入z的值 1\n"
     ]
    },
    {
     "name": "stdout",
     "output_type": "stream",
     "text": [
      "[325, 41, 23, 1]\n"
     ]
    }
   ],
   "source": [
    "w = int(input(\"请输入w的值\"))\n",
    "x = int(input(\"请输入x的值\"))\n",
    "y = int(input(\"请输入y的值\"))\n",
    "z = int(input(\"请输入z的值\"))\n",
    "list = [w,x,y,z]\n",
    "list.sort(reverse = True)\n",
    "print(list)"
   ]
  },
  {
   "cell_type": "code",
   "execution_count": null,
   "id": "9c56c3df-6bd8-4cf4-bf74-3f195e046830",
   "metadata": {},
   "outputs": [],
   "source": []
  }
 ],
 "metadata": {
  "kernelspec": {
   "display_name": "Python 3 (ipykernel)",
   "language": "python",
   "name": "python3"
  },
  "language_info": {
   "codemirror_mode": {
    "name": "ipython",
    "version": 3
   },
   "file_extension": ".py",
   "mimetype": "text/x-python",
   "name": "python",
   "nbconvert_exporter": "python",
   "pygments_lexer": "ipython3",
   "version": "3.11.4"
  }
 },
 "nbformat": 4,
 "nbformat_minor": 5
}
