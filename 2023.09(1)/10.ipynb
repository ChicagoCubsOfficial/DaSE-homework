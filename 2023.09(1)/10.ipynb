{
 "cells": [
  {
   "cell_type": "code",
   "execution_count": 9,
   "id": "b2370451-7d37-49e8-9d47-493c7bb46656",
   "metadata": {},
   "outputs": [
    {
     "name": "stdin",
     "output_type": "stream",
     "text": [
      "请输入一个数： 27\n"
     ]
    },
    {
     "name": "stdout",
     "output_type": "stream",
     "text": [
      "27.0的三次方根是约3.000000\n"
     ]
    }
   ],
   "source": [
    "def root(n):\n",
    "    e = 1e-6\n",
    "    g = n/2.0\n",
    "    while abs(g ** 3 -n) > e:\n",
    "        g = (2 * g + n / g**2) / 3.0\n",
    "    return g\n",
    "n =float(input(\"请输入一个数：\"))\n",
    "r = root(n)\n",
    "print(f\"{n}的三次方根是约{r:.6f}\")"
   ]
  },
  {
   "cell_type": "code",
   "execution_count": null,
   "id": "f8308229-ffb9-41c4-88ce-359d49c804c5",
   "metadata": {},
   "outputs": [],
   "source": []
  }
 ],
 "metadata": {
  "kernelspec": {
   "display_name": "Python 3 (ipykernel)",
   "language": "python",
   "name": "python3"
  },
  "language_info": {
   "codemirror_mode": {
    "name": "ipython",
    "version": 3
   },
   "file_extension": ".py",
   "mimetype": "text/x-python",
   "name": "python",
   "nbconvert_exporter": "python",
   "pygments_lexer": "ipython3",
   "version": "3.11.4"
  }
 },
 "nbformat": 4,
 "nbformat_minor": 5
}
