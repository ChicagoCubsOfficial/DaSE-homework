{
 "cells": [
  {
   "cell_type": "code",
   "execution_count": null,
   "id": "b2370451-7d37-49e8-9d47-493c7bb46656",
   "metadata": {},
   "outputs": [],
   "source": [
    "x = int(input(\"请输入x的值\"))\n",
    "n = pow(x, 1/3)\n",
    "print(n)"
   ]
  },
  {
   "cell_type": "code",
   "execution_count": null,
   "id": "f8308229-ffb9-41c4-88ce-359d49c804c5",
   "metadata": {},
   "outputs": [],
   "source": []
  }
 ],
 "metadata": {
  "kernelspec": {
   "display_name": "Python 3 (ipykernel)",
   "language": "python",
   "name": "python3"
  },
  "language_info": {
   "codemirror_mode": {
    "name": "ipython",
    "version": 3
   },
   "file_extension": ".py",
   "mimetype": "text/x-python",
   "name": "python",
   "nbconvert_exporter": "python",
   "pygments_lexer": "ipython3",
   "version": "3.11.4"
  }
 },
 "nbformat": 4,
 "nbformat_minor": 5
}
