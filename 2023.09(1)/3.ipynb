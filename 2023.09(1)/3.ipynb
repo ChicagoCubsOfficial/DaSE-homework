{
 "cells": [
  {
   "cell_type": "code",
   "execution_count": 2,
   "id": "a39e3ccf-eaa5-40ec-836e-9ec039ce8453",
   "metadata": {
    "tags": []
   },
   "outputs": [
    {
     "name": "stdin",
     "output_type": "stream",
     "text": [
      "请输入x的值 2\n",
      "请输入y的值 3\n",
      "请输入z的值 1\n"
     ]
    },
    {
     "name": "stdout",
     "output_type": "stream",
     "text": [
      "1 2 3\n"
     ]
    }
   ],
   "source": [
    "x = input(\"请输入x的值\")\n",
    "y = input(\"请输入y的值\")\n",
    "z = input(\"请输入z的值\")\n",
    "if x>y:\n",
    "    a=x\n",
    "    x=y\n",
    "    y=a\n",
    "if x>z:\n",
    "    a=x\n",
    "    x=z\n",
    "    z=a\n",
    "if y>z:\n",
    "    a=y\n",
    "    y=z\n",
    "    z=a\n",
    "print(x,y,z)"
   ]
  },
  {
   "cell_type": "code",
   "execution_count": null,
   "id": "288d1af5-4717-4722-b0f1-4234a7401a0b",
   "metadata": {},
   "outputs": [],
   "source": []
  }
 ],
 "metadata": {
  "kernelspec": {
   "display_name": "Python 3 (ipykernel)",
   "language": "python",
   "name": "python3"
  },
  "language_info": {
   "codemirror_mode": {
    "name": "ipython",
    "version": 3
   },
   "file_extension": ".py",
   "mimetype": "text/x-python",
   "name": "python",
   "nbconvert_exporter": "python",
   "pygments_lexer": "ipython3",
   "version": "3.11.4"
  }
 },
 "nbformat": 4,
 "nbformat_minor": 5
}
