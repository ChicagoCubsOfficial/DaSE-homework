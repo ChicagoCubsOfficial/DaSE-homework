{
 "cells": [
  {
   "cell_type": "code",
   "execution_count": 5,
   "id": "43dce30c-ed48-4122-bfd1-9d49dfe9fd3f",
   "metadata": {
    "tags": []
   },
   "outputs": [
    {
     "name": "stdin",
     "output_type": "stream",
     "text": [
      "请输入n的值 6\n"
     ]
    },
    {
     "name": "stdout",
     "output_type": "stream",
     "text": [
      "720\n"
     ]
    }
   ],
   "source": [
    "def m(n):\n",
    "    n=int(input(\"请输入n的值\"))\n",
    "    a=1\n",
    "    for i in range(1,n+1):\n",
    "        a *= i\n",
    "    return a\n",
    "print(m(n))"
   ]
  },
  {
   "cell_type": "code",
   "execution_count": null,
   "id": "9f5fc3c7-a34f-4f19-adba-e0ff9e40cb28",
   "metadata": {},
   "outputs": [],
   "source": []
  }
 ],
 "metadata": {
  "kernelspec": {
   "display_name": "Python 3 (ipykernel)",
   "language": "python",
   "name": "python3"
  },
  "language_info": {
   "codemirror_mode": {
    "name": "ipython",
    "version": 3
   },
   "file_extension": ".py",
   "mimetype": "text/x-python",
   "name": "python",
   "nbconvert_exporter": "python",
   "pygments_lexer": "ipython3",
   "version": "3.11.4"
  }
 },
 "nbformat": 4,
 "nbformat_minor": 5
}
