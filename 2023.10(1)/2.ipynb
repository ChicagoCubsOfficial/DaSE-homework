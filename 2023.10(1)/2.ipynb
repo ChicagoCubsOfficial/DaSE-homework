{
 "cells": [
  {
   "cell_type": "code",
   "execution_count": 4,
   "id": "6c9db732-521f-4397-bed9-32a2c8e9ccd2",
   "metadata": {},
   "outputs": [
    {
     "name": "stdout",
     "output_type": "stream",
     "text": [
      "func start\n",
      "func end\n",
      "coast:0.0000s\n"
     ]
    }
   ],
   "source": [
    "def func():\n",
    "    print(\"func start\")\n",
    "    print(\"func end\")\n",
    "t1= time.time()\n",
    "func()\n",
    "print(f'coast:{time.time() - t1:.4f}s')\n"
   ]
  },
  {
   "cell_type": "code",
   "execution_count": null,
   "id": "8401c5ce-8172-4f6e-92fa-d61ad557aaf9",
   "metadata": {},
   "outputs": [],
   "source": []
  },
  {
   "cell_type": "code",
   "execution_count": null,
   "id": "d3d874c4-fc64-4525-9c1a-289a43487f1a",
   "metadata": {},
   "outputs": [],
   "source": []
  }
 ],
 "metadata": {
  "kernelspec": {
   "display_name": "Python 3 (ipykernel)",
   "language": "python",
   "name": "python3"
  },
  "language_info": {
   "codemirror_mode": {
    "name": "ipython",
    "version": 3
   },
   "file_extension": ".py",
   "mimetype": "text/x-python",
   "name": "python",
   "nbconvert_exporter": "python",
   "pygments_lexer": "ipython3",
   "version": "3.11.4"
  }
 },
 "nbformat": 4,
 "nbformat_minor": 5
}
