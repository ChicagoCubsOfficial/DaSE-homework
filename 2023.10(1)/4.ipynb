{
 "cells": [
  {
   "cell_type": "markdown",
   "id": "6e99ff25-8303-4a17-b338-4ef83adef5a2",
   "metadata": {},
   "source": [
    "希尔排序的时间复杂度为O(n^3/2),而由于希尔排序和直接插入排序一样没有借助中间变量，空间复杂度为O(1)"
   ]
  }
 ],
 "metadata": {
  "kernelspec": {
   "display_name": "Python 3 (ipykernel)",
   "language": "python",
   "name": "python3"
  },
  "language_info": {
   "codemirror_mode": {
    "name": "ipython",
    "version": 3
   },
   "file_extension": ".py",
   "mimetype": "text/x-python",
   "name": "python",
   "nbconvert_exporter": "python",
   "pygments_lexer": "ipython3",
   "version": "3.11.4"
  }
 },
 "nbformat": 4,
 "nbformat_minor": 5
}
