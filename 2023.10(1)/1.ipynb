{
 "cells": [
  {
   "cell_type": "code",
   "execution_count": 15,
   "id": "e6332527-87f1-4149-a7e9-3e4399616da9",
   "metadata": {
    "tags": []
   },
   "outputs": [
    {
     "name": "stdin",
     "output_type": "stream",
     "text": [
      "请输入数字: 101\n"
     ]
    },
    {
     "name": "stdout",
     "output_type": "stream",
     "text": [
      "101 是质数\n"
     ]
    }
   ],
   "source": [
    "n = int(input(\"请输入数字:\"))\n",
    "c = 0\n",
    "for i in range(2,n):\n",
    "    if(n % i == 0):\n",
    "        c = 1\n",
    "if(c == 1):\n",
    "    print(n,'不是质数')\n",
    "else:\n",
    "    print(n,'是质数')"
   ]
  },
  {
   "cell_type": "code",
   "execution_count": null,
   "id": "dd5dbbd5-ffbc-471f-be5e-1f4baa3dcb6c",
   "metadata": {},
   "outputs": [],
   "source": []
  }
 ],
 "metadata": {
  "kernelspec": {
   "display_name": "Python 3 (ipykernel)",
   "language": "python",
   "name": "python3"
  },
  "language_info": {
   "codemirror_mode": {
    "name": "ipython",
    "version": 3
   },
   "file_extension": ".py",
   "mimetype": "text/x-python",
   "name": "python",
   "nbconvert_exporter": "python",
   "pygments_lexer": "ipython3",
   "version": "3.11.4"
  }
 },
 "nbformat": 4,
 "nbformat_minor": 5
}
