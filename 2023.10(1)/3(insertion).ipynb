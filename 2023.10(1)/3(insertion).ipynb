{
 "cells": [
  {
   "cell_type": "code",
   "execution_count": 1,
   "id": "091865af-7c80-426f-9ff9-ee701cc42252",
   "metadata": {},
   "outputs": [
    {
     "name": "stdin",
     "output_type": "stream",
     "text": [
      " 2 5 7 3 1\n"
     ]
    },
    {
     "name": "stdout",
     "output_type": "stream",
     "text": [
      "排序后的数组:\n",
      "1\n",
      "2\n",
      "3\n",
      "5\n",
      "7\n"
     ]
    }
   ],
   "source": [
    "def insertionSort(arr): \n",
    "    for i in range(1, len(arr)): \n",
    "        key = arr[i] \n",
    "        j = i-1\n",
    "        while j >=0 and key < arr[j] : \n",
    "                arr[j+1] = arr[j] \n",
    "                j -= 1\n",
    "        arr[j+1] = key \n",
    "\n",
    "a = list(map(int,input().split()))\n",
    "insertionSort(a) \n",
    "print (\"排序后的数组:\") \n",
    "for i in range(len(a)): \n",
    "    print (\"%d\" %a[i])"
   ]
  },
  {
   "cell_type": "code",
   "execution_count": null,
   "id": "af594b9a-7899-4974-963e-5212c2cb495a",
   "metadata": {},
   "outputs": [],
   "source": []
  }
 ],
 "metadata": {
  "kernelspec": {
   "display_name": "Python 3 (ipykernel)",
   "language": "python",
   "name": "python3"
  },
  "language_info": {
   "codemirror_mode": {
    "name": "ipython",
    "version": 3
   },
   "file_extension": ".py",
   "mimetype": "text/x-python",
   "name": "python",
   "nbconvert_exporter": "python",
   "pygments_lexer": "ipython3",
   "version": "3.11.4"
  }
 },
 "nbformat": 4,
 "nbformat_minor": 5
}
