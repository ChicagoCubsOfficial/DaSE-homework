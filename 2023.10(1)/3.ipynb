{
 "cells": [
  {
   "cell_type": "code",
   "execution_count": 2,
   "id": "091865af-7c80-426f-9ff9-ee701cc42252",
   "metadata": {},
   "outputs": [
    {
     "ename": "IndentationError",
     "evalue": "unindent does not match any outer indentation level (<tokenize>, line 23)",
     "output_type": "error",
     "traceback": [
      "\u001b[1;36m  File \u001b[1;32m<tokenize>:23\u001b[1;36m\u001b[0m\n\u001b[1;33m    time_start = time.clock()  # 记录开始时间\u001b[0m\n\u001b[1;37m    ^\u001b[0m\n\u001b[1;31mIndentationError\u001b[0m\u001b[1;31m:\u001b[0m unindent does not match any outer indentation level\n"
     ]
    }
   ],
   "source": [
    "import pandas as pd\n",
    "import random\n",
    "import time\n",
    "import seaborn as sns\n",
    "import matplotlib.pyplot as plt\n",
    "\n",
    "from pylab import mpl\n",
    "mpl.rcParams['font.sans-serif']=['SimHei']\n",
    "\n",
    "def insert_sort(tg_list):\n",
    "\n",
    "    for i in range(1,len(tg_list)):\n",
    "        for j in range(i,0,-1):\n",
    "            if tg_list[j] < tg_list[j-1]:\n",
    "                tg_list[j-1], tg_list[j] = tg_list[j], tg_list[j-1]\n",
    "            else:\n",
    "                break\n",
    "                \n",
    "def get_runtime(n):\n",
    "\t''' 获取排序耗时 '''\n",
    "    time_start = time.clock()  # 记录开始时间\n",
    "\n",
    "    list_ = [random.randint(1,n) for i in range(n)]\n",
    "    insert_sort(list_)\n",
    "    \n",
    "    time_end = time.clock()  # 记录结束时间\n",
    "    time_sum = time_end - time_start  # 计算的时间差为程序的执行时间，单位为秒/s\n",
    "    \n",
    "    return [n,time_sum]\n",
    "\n",
    "def plot(df):\n",
    "    ''' 绘制折线图 '''\n",
    "    pd.options.display.notebook_repr_html=False  # 表格显示\n",
    "    plt.rcParams['figure.dpi'] = 75  # 图形分辨率\n",
    "    sns.set_style(style='darkgrid')  # 图形主题\n",
    "\n",
    "    plt.figure(figsize=(4,3),dpi=150)\n",
    "    sns.lineplot(\n",
    "        data=df,\n",
    "        x='数量',\n",
    "        y='耗时(s)'\n",
    "    )\n",
    "    \n",
    "if __name__ == \"__main__\":\n",
    "    nums = range(100,10000,100)\n",
    "    res = list(map(get_runtime,nums))\n",
    "    res_df = pd.DataFrame(res,columns=['数量','耗时(s)'])\n",
    "    plot(res_df)\n"
   ]
  },
  {
   "cell_type": "code",
   "execution_count": null,
   "id": "c5721a1e-c361-4373-b674-4ee9f9d35674",
   "metadata": {},
   "outputs": [],
   "source": []
  }
 ],
 "metadata": {
  "kernelspec": {
   "display_name": "Python 3 (ipykernel)",
   "language": "python",
   "name": "python3"
  },
  "language_info": {
   "codemirror_mode": {
    "name": "ipython",
    "version": 3
   },
   "file_extension": ".py",
   "mimetype": "text/x-python",
   "name": "python",
   "nbconvert_exporter": "python",
   "pygments_lexer": "ipython3",
   "version": "3.11.4"
  }
 },
 "nbformat": 4,
 "nbformat_minor": 5
}
