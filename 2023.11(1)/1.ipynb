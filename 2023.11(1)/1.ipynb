{
 "cells": [
  {
   "cell_type": "code",
   "execution_count": null,
   "id": "04d60138-d37c-4a4b-a27c-fdf6852cbbdf",
   "metadata": {},
   "outputs": [],
   "source": [
    "CREATE TABLE user(\n",
    "    id int,\n",
    "    user_name string,\n",
    "    sex string,\n",
    "    age int,\n",
    "    telephone string\n",
    ");\n",
    "\n",
    "INSERT INTO user(id, user_name, sex, age, telephone)\n",
    "VALUES(1, '张天佑', 'male', 17, '18221130855');\n",
    "INSERT INTO user(id, user_name, sex, age, telephone)\n",
    "VALUES(2, '陈泽彬', 'male', 20, '13818812289');\n",
    "INSERT INTO user(id, user_name, sex, age, telephone)\n",
    "VALUES(3, '陈绮贞', 'female', 48, '18732343198');\n",
    "INSERT INTO user(id, user_name, sex, age, telephone)\n",
    "VALUES(4, '苏哈托', 'male', 87, '19321238985');"
   ]
  },
  {
   "cell_type": "code",
   "execution_count": null,
   "id": "29339117-22e6-4505-a7f9-845efa898378",
   "metadata": {},
   "outputs": [],
   "source": [
    "SELECT * FROM user WHERE age >= 20 AND age <=30 ;"
   ]
  },
  {
   "cell_type": "code",
   "execution_count": null,
   "id": "4192117b-bbe7-45e6-add6-9c9fc5f7b47c",
   "metadata": {},
   "outputs": [],
   "source": [
    "DELETE FROM user WHERE user_name LIKE '%张%';"
   ]
  },
  {
   "cell_type": "code",
   "execution_count": null,
   "id": "ef508dc5-b81a-4ba3-8422-6a64b0b59661",
   "metadata": {},
   "outputs": [],
   "source": [
    "SELECT AVG(age) AS average_age FROM user;"
   ]
  },
  {
   "cell_type": "code",
   "execution_count": null,
   "id": "411e7844-fb20-438c-8cf1-6eefb317e7a3",
   "metadata": {},
   "outputs": [],
   "source": [
    "SELECT * FROM user\n",
    "WHERE age >= 20 AND age <= 30 AND user_name LIKE '%张%'\n",
    "ORDER BY age DESC;"
   ]
  }
 ],
 "metadata": {
  "kernelspec": {
   "display_name": "Python 3 (ipykernel)",
   "language": "python",
   "name": "python3"
  },
  "language_info": {
   "codemirror_mode": {
    "name": "ipython",
    "version": 3
   },
   "file_extension": ".py",
   "mimetype": "text/x-python",
   "name": "python",
   "nbconvert_exporter": "python",
   "pygments_lexer": "ipython3",
   "version": "3.11.4"
  }
 },
 "nbformat": 4,
 "nbformat_minor": 5
}
