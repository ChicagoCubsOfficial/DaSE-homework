{
 "cells": [
  {
   "cell_type": "code",
   "execution_count": null,
   "id": "52007b15-645c-4123-a7cf-1b00467ce6d9",
   "metadata": {},
   "outputs": [],
   "source": [
    "CREATE TABLE (\n",
    "    id INT PRIMARY KEY,\n",
    "    teamName VARCHAR(225)\n",
    ");\n",
    "\n",
    "CREATE TABLE score(\n",
    "    id INT PRIMARY KEY,\n",
    "    teamid INT,\n",
    "    userid INT,\n",
    "    score INT,\n",
    "    FOREIGN KEY (teamid) REFERENCES team(id),\n",
    "    FOREIGN KEY (userid) REFERENCES user(id)\n",
    ")"
   ]
  },
  {
   "cell_type": "code",
   "execution_count": null,
   "id": "180b9c86-9ec2-4db8-bf6a-f80eaed8b49d",
   "metadata": {},
   "outputs": [],
   "source": [
    "SELECT u.* FROM user u\n",
    "JOIN score s ON u.id = s.userid\n",
    "JOIN team t ON s.teamid = t.id\n",
    "WHERE t.teamName = 'ECNU' AND u.age < 20;"
   ]
  },
  {
   "cell_type": "code",
   "execution_count": null,
   "id": "bc87f1a3-cccc-4cea-80aa-c7c538999107",
   "metadata": {},
   "outputs": [],
   "source": [
    "SELECT team.teamName, COALESCE(SUM(score.score), 0) AS total_score\n",
    "FROM team\n",
    "LEFT JOIN score ON team.id = score.teamid\n",
    "WHERE team.teamName = 'ECNU'"
   ]
  }
 ],
 "metadata": {
  "kernelspec": {
   "display_name": "Python 3 (ipykernel)",
   "language": "python",
   "name": "python3"
  },
  "language_info": {
   "codemirror_mode": {
    "name": "ipython",
    "version": 3
   },
   "file_extension": ".py",
   "mimetype": "text/x-python",
   "name": "python",
   "nbconvert_exporter": "python",
   "pygments_lexer": "ipython3",
   "version": "3.11.4"
  }
 },
 "nbformat": 4,
 "nbformat_minor": 5
}
